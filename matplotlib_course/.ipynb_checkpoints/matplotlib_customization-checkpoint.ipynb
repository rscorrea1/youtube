{
 "cells": [
  {
   "cell_type": "markdown",
   "metadata": {},
   "source": [
    "___\n",
    "\n",
    "<a href='https://www.youtube.com/FallinPython'> <img src=\"_images/FallinPython_Jupyter-01.jpg\" width=\"750\" height=\"400\" align=\"center\"/></a>\n",
    "___"
   ]
  },
  {
   "cell_type": "markdown",
   "metadata": {},
   "source": [
    "# Matplotlib Library\n",
    "* Website:       https://matplotlib.org/3.3.3/index.html \n",
    "* Gallery:        https://matplotlib.org/3.3.3/gallery/index.html\n",
    "* Documentation: https://matplotlib.org/3.3.3/contents.html"
   ]
  },
  {
   "cell_type": "markdown",
   "metadata": {},
   "source": [
    "## Installation"
   ]
  },
  {
   "cell_type": "markdown",
   "metadata": {},
   "source": [
    "<img src=\"_images/install_library.png\" width=\"500\" height=\"400\" align=\"left\" />"
   ]
  },
  {
   "cell_type": "markdown",
   "metadata": {},
   "source": [
    "https://matplotlib.org/users/installing.html"
   ]
  },
  {
   "cell_type": "markdown",
   "metadata": {},
   "source": [
    "## Let's get started!"
   ]
  },
  {
   "cell_type": "code",
   "execution_count": null,
   "metadata": {},
   "outputs": [],
   "source": [
    "%matplotlib inline"
   ]
  },
  {
   "cell_type": "code",
   "execution_count": null,
   "metadata": {},
   "outputs": [],
   "source": [
    "import matplotlib\n",
    "matplotlib.use(\"nbAgg\")    # Interactive plot in Jupyter Notebook"
   ]
  },
  {
   "cell_type": "markdown",
   "metadata": {},
   "source": [
    "### Importing Libraries"
   ]
  },
  {
   "cell_type": "code",
   "execution_count": null,
   "metadata": {},
   "outputs": [],
   "source": [
    "import matplotlib.pyplot as plt\n",
    "import numpy as np"
   ]
  },
  {
   "cell_type": "code",
   "execution_count": null,
   "metadata": {},
   "outputs": [],
   "source": [
    "# Change the default image format to a vector format\n",
    "from IPython.display import set_matplotlib_formats\n",
    "set_matplotlib_formats('svg')"
   ]
  },
  {
   "cell_type": "markdown",
   "metadata": {},
   "source": [
    "## What is a Matplotlib Graph?"
   ]
  },
  {
   "cell_type": "markdown",
   "metadata": {},
   "source": [
    "A Matplotlib graph is a combination of 3 components:\n",
    "1. Figure\n",
    "2. Axes or subplots ⇒ Plotting area\n",
    "3. Plot Data"
   ]
  },
  {
   "cell_type": "markdown",
   "metadata": {},
   "source": [
    "<img src=\"_images/matplotlib_graph.png\" width=\"1000\" height=\"400\" align=\"left\"  />"
   ]
  },
  {
   "cell_type": "markdown",
   "metadata": {},
   "source": [
    "## Pyplot ⇒ Implicit Approach"
   ]
  },
  {
   "cell_type": "code",
   "execution_count": null,
   "metadata": {},
   "outputs": [],
   "source": [
    "# data\n",
    "x = np.linspace(-1,1,50)\n",
    "y = x**3"
   ]
  },
  {
   "cell_type": "code",
   "execution_count": null,
   "metadata": {},
   "outputs": [],
   "source": [
    "plt.plot(x,y)\n",
    "plt.show()"
   ]
  },
  {
   "cell_type": "markdown",
   "metadata": {},
   "source": [
    "> The `pyplot API` is generally less-flexible than the `object-oriented API`."
   ]
  },
  {
   "cell_type": "markdown",
   "metadata": {},
   "source": [
    "## Axes methods ⇒ Explicit Approach"
   ]
  },
  {
   "cell_type": "code",
   "execution_count": null,
   "metadata": {},
   "outputs": [],
   "source": [
    "fig = plt.figure()\n",
    "ax = fig.add_subplot()\n",
    "ax.plot(x,y)\n",
    "plt.show()"
   ]
  },
  {
   "cell_type": "markdown",
   "metadata": {},
   "source": [
    "**Setters**<br>\n",
    "To set the basic properties of an `Axes` you will $\\rightarrow$ `axes.set_`"
   ]
  },
  {
   "cell_type": "code",
   "execution_count": null,
   "metadata": {},
   "outputs": [],
   "source": [
    "fig = plt.figure()\n",
    "ax = fig.add_subplot()\n",
    "ax.plot(x,y, label=\"graph 1\")\n",
    "ax.plot(y,x, label=\"graph 2\")\n",
    "ax.set_title(\"Explicit Method\")\n",
    "ax.set_xlabel(\"x-coord [unit]\")\n",
    "ax.set_ylabel(\"y-coord [unit]\")\n",
    "ax.set_xlim(-1,1)\n",
    "ax.set_ylim(-1,1)\n",
    "ax.legend()\n",
    "ax.grid()\n",
    "plt.show()"
   ]
  },
  {
   "cell_type": "markdown",
   "metadata": {},
   "source": [
    "## Axes methods ⇒ Explicit Approach"
   ]
  },
  {
   "cell_type": "code",
   "execution_count": null,
   "metadata": {},
   "outputs": [],
   "source": [
    "fig = plt.figure()\n",
    "ax = fig.add_subplot()\n",
    "ax.plot(x,y,label=\"graph 1\")\n",
    "ax.plot(y,x,label=\"graph 2\")\n",
    "ax.set_title(\"Explicit Method\")\n",
    "ax.set_xlabel(\"x-coord [unit]\")\n",
    "ax.set_ylabel(\"y-coord [unit]\")\n",
    "ax.set_xlim(-1,1)\n",
    "ax.set_ylim(-1,1)\n",
    "ax.legend()\n",
    "ax.grid()\n",
    "plt.show()"
   ]
  },
  {
   "cell_type": "markdown",
   "metadata": {},
   "source": [
    "## Customization: Colors, Line Styles, Makers, Title, Label, Grid, Legend..."
   ]
  },
  {
   "cell_type": "code",
   "execution_count": null,
   "metadata": {},
   "outputs": [],
   "source": [
    "import matplotlib.pyplot as plt\n",
    "import numpy as np\n",
    "\n",
    "# data\n",
    "x = np.linspace(-1,1,50)\n",
    "y = x**3"
   ]
  },
  {
   "cell_type": "code",
   "execution_count": null,
   "metadata": {
    "scrolled": false
   },
   "outputs": [],
   "source": [
    "fig = plt.figure()\n",
    "ax = fig.add_subplot()\n",
    "ax.plot(x,y, color=\"black\",linewidth=2,linestyle=\"-\",\n",
    "        marker=\"o\",markersize=4,markerfacecolor=\"grey\",\n",
    "        label=\"graph 1\")      \n",
    "ax.plot(y,x,color=\"purple\",linewidth=2,linestyle=\"-\",\n",
    "        marker=\"s\",markersize=4,markerfacecolor=\"pink\",\n",
    "        label=\"graph 2\")\n",
    "ax.set_title(\"Explicit Method\",fontsize=16,fontname=\"verdana\")\n",
    "ax.set_xlabel(\"x-coord [unit]\",fontsize=13,fontname=\"arial\",weight=\"bold\")\n",
    "ax.set_ylabel(\"y-coord [unit]\",fontsize=13,fontname=\"arial\",weight=\"bold\")\n",
    "ax.set_xlim(-1,1)\n",
    "ax.set_ylim(-1,1)\n",
    "ax.legend(loc='best',frameon=False)\n",
    "ax.grid(linewidth=0.5,linestyle=\"-\",color=\"grey\",alpha=0.25)\n",
    "plt.show()"
   ]
  },
  {
   "cell_type": "markdown",
   "metadata": {},
   "source": [
    "<img src=\"_images/markers_colors_line_styles.PNG\" width=\"1000\" height=\"400\" align=\"left\"  />"
   ]
  },
  {
   "cell_type": "markdown",
   "metadata": {},
   "source": [
    "* matplotlib Markers: https://matplotlib.org/3.3.3/api/markers_api.html\n",
    "* hex color: https://en.wikipedia.org/wiki/Web_colors"
   ]
  },
  {
   "cell_type": "markdown",
   "metadata": {},
   "source": [
    "### Short way to customize"
   ]
  },
  {
   "cell_type": "code",
   "execution_count": null,
   "metadata": {},
   "outputs": [],
   "source": [
    "fig = plt.figure()\n",
    "ax = fig.add_subplot()\n",
    "ax.plot(x, y, 'x-r')\n",
    "plt.show()"
   ]
  }
 ],
 "metadata": {
  "kernelspec": {
   "display_name": "Python 3",
   "language": "python",
   "name": "python3"
  },
  "language_info": {
   "codemirror_mode": {
    "name": "ipython",
    "version": 3
   },
   "file_extension": ".py",
   "mimetype": "text/x-python",
   "name": "python",
   "nbconvert_exporter": "python",
   "pygments_lexer": "ipython3",
   "version": "3.7.9"
  }
 },
 "nbformat": 4,
 "nbformat_minor": 4
}
