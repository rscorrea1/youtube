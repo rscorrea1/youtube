{
 "cells": [
  {
   "cell_type": "markdown",
   "metadata": {},
   "source": [
    "___\n",
    "\n",
    "<a href='https://www.youtube.com/FallinPython'> <img src=\"logo_name.jpg\" /></a>\n",
    "___\n",
    "\n",
    "# NumPy Library\n",
    "\n",
    "- NumPy Array: Vectors and Matrices\n",
    "- NumPy Operations (Arithmetic)\n",
    "- Mathematical Formulas with Arrays\n",
    "- Mathematical Series/Sequences with Arrays"
   ]
  },
  {
   "cell_type": "markdown",
   "metadata": {},
   "source": [
    "## Importing Numpy"
   ]
  },
  {
   "cell_type": "code",
   "execution_count": null,
   "metadata": {},
   "outputs": [],
   "source": [
    "import numpy as np"
   ]
  },
  {
   "cell_type": "markdown",
   "metadata": {},
   "source": [
    "## NumPy Array: Vectors and Matrices"
   ]
  },
  {
   "cell_type": "markdown",
   "metadata": {},
   "source": [
    "Numpy is based on a class called `ndarray`. An object created from this class is referred to `NumPy array` or only `array`.<br>\n",
    "We often use NumPy `array` to create vectors and matrices.\n",
    "- One dimensional NumPy array ⇒ Vector\n",
    "- Two dimensional NumPy array ⇒ Matrix\n",
    "- Three dimensional NumPy array ⇒ Tensor"
   ]
  },
  {
   "cell_type": "markdown",
   "metadata": {},
   "source": [
    "There are several ways we can create an array. Let's check how to create an array from a Python sequence (lists, tuples...) using the `array` function."
   ]
  },
  {
   "cell_type": "code",
   "execution_count": null,
   "metadata": {},
   "outputs": [],
   "source": [
    "# 1D Array => vector\n",
    "x_list = [15, 20, 25]\n",
    "x_array = np.array(x_list)\n",
    "\n",
    "# printing\n",
    "print(x_array)"
   ]
  },
  {
   "cell_type": "code",
   "execution_count": null,
   "metadata": {},
   "outputs": [],
   "source": [
    "# 2D Array => matrix\n",
    "nestedList = [[1, 2, 3],[4, 5, 6],[7,8,9]]\n",
    "matrix = np.array(nestedList) \n",
    "\n",
    "# printing\n",
    "print(matrix)"
   ]
  },
  {
   "cell_type": "markdown",
   "metadata": {},
   "source": [
    "## NumPy Operations (Arithmetic)"
   ]
  },
  {
   "cell_type": "markdown",
   "metadata": {},
   "source": [
    "NumPy arrays are very easy to manipulate when it comes to arithmetic:"
   ]
  },
  {
   "cell_type": "code",
   "execution_count": null,
   "metadata": {
    "scrolled": true
   },
   "outputs": [],
   "source": [
    "# 1D array\n",
    "x = np.array([1,2,3])\n",
    "print(x)\n",
    "#print(10+x)\n",
    "\n",
    "# 2D array\n",
    "#matrix = np.array([[1,2,3],[4,5,6],[7,8,9]])\n",
    "#print(matrix)\n",
    "#print()\n",
    "#print(matrix**0.5)"
   ]
  },
  {
   "cell_type": "code",
   "execution_count": null,
   "metadata": {},
   "outputs": [],
   "source": [
    "# addition\n",
    "x = np.array([2,4,6,8,10])\n",
    "y = np.array([1,2,3,4,5])\n",
    "result = x+y\n",
    "#result = np.add(x,y)\n",
    "print(result)"
   ]
  },
  {
   "cell_type": "code",
   "execution_count": null,
   "metadata": {},
   "outputs": [],
   "source": [
    "# subtraction\n",
    "x = np.array([2,4,6,8,10])\n",
    "y = np.array([1,2,3,4,5])\n",
    "result = x-y\n",
    "#result = np.subtract(x,y)\n",
    "print(result)"
   ]
  },
  {
   "cell_type": "code",
   "execution_count": null,
   "metadata": {},
   "outputs": [],
   "source": [
    "# multiplication\n",
    "x = np.array([2,4,6,8,10])\n",
    "y = np.array([1,2,3,4,5])\n",
    "result = x*y\n",
    "#result = np.multiply(x,y)\n",
    "print(result)"
   ]
  },
  {
   "cell_type": "code",
   "execution_count": null,
   "metadata": {},
   "outputs": [],
   "source": [
    "# division\n",
    "x = np.array([2,4,6,8,10])\n",
    "y = np.array([1,2,3,4,5])\n",
    "result = x/y\n",
    "#result = np.divide(x,y)\n",
    "print(result)"
   ]
  },
  {
   "cell_type": "markdown",
   "metadata": {},
   "source": [
    "What if we want to calculate the sum of all the elements of an array or any numerical sequence:"
   ]
  },
  {
   "cell_type": "code",
   "execution_count": null,
   "metadata": {},
   "outputs": [],
   "source": [
    "# 1D array\n",
    "x = np.array([1,2,3,4,5])\n",
    "#print(x)\n",
    "#x_sum = np.sum(x)\n",
    "#print(\"sum:\", x_sum)\n",
    "\n",
    "# 2D array\n",
    "#matrix = np.array([[1,2,3],[4,5,6],[7,8,9]])\n",
    "#print(matrix)\n",
    "#matrix_sum = np.sum(matrix)\n",
    "#print(\"sum:\", matrix_sum)"
   ]
  },
  {
   "cell_type": "markdown",
   "metadata": {},
   "source": [
    "**Note:** To check the content of NumPy library we can use the `dir` function."
   ]
  },
  {
   "cell_type": "code",
   "execution_count": null,
   "metadata": {},
   "outputs": [],
   "source": [
    "#print(dir(np))  # import numpy as np"
   ]
  },
  {
   "cell_type": "markdown",
   "metadata": {},
   "source": [
    "**Note:** To check the doc string we can add a `question mark` after the command"
   ]
  },
  {
   "cell_type": "code",
   "execution_count": null,
   "metadata": {},
   "outputs": [],
   "source": [
    "np.sum?"
   ]
  },
  {
   "cell_type": "markdown",
   "metadata": {},
   "source": [
    "## Mathematical Formulas with Arrays"
   ]
  },
  {
   "cell_type": "markdown",
   "metadata": {},
   "source": [
    "Easy and efficient arithmetic operations also leads to powerful mathematical formulas handling with NumPy arrays."
   ]
  },
  {
   "cell_type": "markdown",
   "metadata": {},
   "source": [
    "### Sample Standard Deviation:\n",
    "\n",
    "In statistics, the standard deviation is a measure of the amount of dispersion from its mean value."
   ]
  },
  {
   "cell_type": "markdown",
   "metadata": {},
   "source": [
    "<font size=\"4\"> $$ s = \\sqrt[]{\\frac{1}{N-1}\\sum_{i=1}^N (x_i- \\overline{x})^2} $$ </font>"
   ]
  },
  {
   "cell_type": "markdown",
   "metadata": {},
   "source": [
    "1. Use `np.mean()` to calculate the mean value ($\\overline{x}$)\n",
    "2. Use `np.sqrt()` to calculate the square root\n",
    "3. You cannot not use `np.std()` because it returns the **Population Standard Deviation**"
   ]
  },
  {
   "cell_type": "code",
   "execution_count": null,
   "metadata": {},
   "outputs": [],
   "source": [
    "grades = np.array([60,70,80,90])\n",
    "meanValue = \n",
    "N = \n",
    "s = \n",
    "#print(\"Sample Standard Deviation:\", round(s,2))"
   ]
  },
  {
   "cell_type": "markdown",
   "metadata": {},
   "source": [
    "### Mathematical Series / Sequences:"
   ]
  },
  {
   "cell_type": "markdown",
   "metadata": {},
   "source": [
    "<font size=\"5\"> $$ \\sum_{k=1}^\\infty \\frac{sin(k\\theta)}{k} = \\frac{\\pi-\\theta}{2} $$ </font>"
   ]
  },
  {
   "cell_type": "markdown",
   "metadata": {},
   "source": [
    "Let's use $\\theta=30°$\n",
    "- Trigonometric functions work with angles in radians\n",
    "- `np.sin()` returns trigonometric sine\n",
    "- `np.radians()` converts angles from degrees to radians\n",
    "- `np.pi` returns pi value"
   ]
  },
  {
   "cell_type": "code",
   "execution_count": null,
   "metadata": {},
   "outputs": [],
   "source": [
    "# define input\n",
    "theta = np.radians(30)\n",
    "goal = (np.pi-theta)/2\n",
    "N = 100\n",
    "k_array = range(1,N+1)"
   ]
  },
  {
   "cell_type": "code",
   "execution_count": null,
   "metadata": {},
   "outputs": [],
   "source": [
    "# using numpy array\n",
    "result = \n",
    "\n",
    "print(\"Goal:\", round(goal,4))\n",
    "print(\"Series:\", round(result,4))\n",
    "print(\"Error:\", round((result-goal)/goal*100,3),\"%\")"
   ]
  },
  {
   "cell_type": "markdown",
   "metadata": {},
   "source": [
    "**Ploting Convergence**"
   ]
  },
  {
   "cell_type": "markdown",
   "metadata": {},
   "source": [
    "<font size=\"5\"> $$ \\sum_{k=1}^\\infty \\frac{sin(k\\theta)}{k} = \\frac{\\pi-\\theta}{2} $$ </font>"
   ]
  },
  {
   "cell_type": "code",
   "execution_count": null,
   "metadata": {},
   "outputs": [],
   "source": [
    "%matplotlib inline\n",
    "import matplotlib.pyplot as plt\n",
    "\n",
    "# input data\n",
    "theta = np.radians(30)\n",
    "goal = (np.pi-theta)/2\n",
    "N = range(100,1000,1)\n",
    "\n",
    "results = []\n",
    "for n in N:\n",
    "    k_array = range(1,n)\n",
    "    results.append(np.sum( np.sin(k_array*theta)/k_array ))\n",
    "\n",
    "# plot\n",
    "fig = plt.figure(figsize=(18,6))\n",
    "ax = fig.add_subplot(1,1,1)\n",
    "ax.plot(N, results, label=\"Series with N elements\")\n",
    "ax.plot(N, [goal]*len(N), label=\"Expected Value\")\n",
    "plt.legend()\n",
    "plt.show() "
   ]
  }
 ],
 "metadata": {
  "kernelspec": {
   "display_name": "Python 3",
   "language": "python",
   "name": "python3"
  },
  "language_info": {
   "codemirror_mode": {
    "name": "ipython",
    "version": 3
   },
   "file_extension": ".py",
   "mimetype": "text/x-python",
   "name": "python",
   "nbconvert_exporter": "python",
   "pygments_lexer": "ipython3",
   "version": "3.7.5"
  }
 },
 "nbformat": 4,
 "nbformat_minor": 4
}
