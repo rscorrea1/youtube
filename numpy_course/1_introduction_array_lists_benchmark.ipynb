{
 "cells": [
  {
   "cell_type": "markdown",
   "metadata": {},
   "source": [
    "___\n",
    "\n",
    "<a href='https://www.youtube.com/FallinPython'> <img src=\"logo_name.jpg\" /></a>\n",
    "___\n",
    "\n",
    "# NumPy Library\n",
    "\n",
    "- What is Numpy?\n",
    "- How to Install\n",
    "- NumPy Array: Vectors and Matrices\n",
    "- Array vs. Lists\n",
    "- Speed Test: Array vs. Lists\n",
    "\n",
    "## What is NumPy?\n",
    "\n",
    "NumPy stands for \"Numeric Python\". The official definition from its website is the following:<br>\n",
    ">\"The fundamental package for scientific computing with Python\"\n",
    "\n",
    "It provides a set of routines for fast operations on arrays and matrices.<br>\n",
    "It is not absurd to say that NumPy competes with comercial softwares like Matlab when it comes to array computing performance.\n",
    "\n",
    ">\"A growing plethora of scientific and mathematical Python-based packages are using NumPy arrays; though these typically support Python-sequence input, they convert such input to NumPy arrays prior to processing, and they often output NumPy arrays. In other words, in order to efficiently use much (perhaps even most) of today’s scientific/mathematical Python-based software, ***just knowing how to use Python’s built-in sequence types is insufficient - one also needs to know how to use NumPy arrays.***\"\n",
    "\n",
    "- Official website: [link](https://numpy.org/)\n",
    "\n",
    "\n",
    "## How to install\n",
    "\n",
    "The official website shows two options to install Numpy Library: [Official website](https://numpy.org/install/)\n",
    "\n",
    "1. Conda package manager ⇒ `conda install numpy`\n",
    "2. pip package manager ⇒ `pip install numpy`"
   ]
  },
  {
   "cell_type": "markdown",
   "metadata": {},
   "source": [
    "## Importing Numpy"
   ]
  },
  {
   "cell_type": "code",
   "execution_count": null,
   "metadata": {},
   "outputs": [],
   "source": [
    "import numpy as np"
   ]
  },
  {
   "cell_type": "markdown",
   "metadata": {},
   "source": [
    "## NumPy Array: Vectors and Matrices"
   ]
  },
  {
   "cell_type": "markdown",
   "metadata": {},
   "source": [
    "Numpy is based on a class called `ndarray`. An object created from this class is referred to `NumPy array` or only `array`.<br>\n",
    "We often use NumPy `array` to create vectors and matrices.\n",
    "- One dimensional NumPy array ⇒ Vector\n",
    "- Two dimensional NumPy array ⇒ Matrix\n",
    "- Three dimensional NumPy array ⇒ Tensor"
   ]
  },
  {
   "cell_type": "markdown",
   "metadata": {},
   "source": [
    "There are several ways we can create an array. Let's check how to create an array from a Python sequence (lists, tuples...) using the `array` function."
   ]
  },
  {
   "cell_type": "code",
   "execution_count": null,
   "metadata": {},
   "outputs": [],
   "source": [
    "# 1D Array => vector\n",
    "temperature_list = [18.5, 20, 25]  # in degrees\n",
    "temperature_array = np.array(temperature_list)\n",
    "\n",
    "# printing\n",
    "print(temperature_list, \"  ⇒\", type(temperature_list))\n",
    "print(temperature_array, \"⇒\", type(temperature_array))"
   ]
  },
  {
   "cell_type": "code",
   "execution_count": null,
   "metadata": {},
   "outputs": [],
   "source": [
    "# 2D Array => matrix\n",
    "nestedList = [[1, 2, 3],[4, 5, 6],[7,8,9]]\n",
    "matrix = np.array(nestedList)  \n",
    "\n",
    "# printing\n",
    "print(matrix)\n",
    "print()\n",
    "print(type(matrix))"
   ]
  },
  {
   "cell_type": "markdown",
   "metadata": {},
   "source": [
    "## Numpy Array vs. Python Lists"
   ]
  },
  {
   "cell_type": "markdown",
   "metadata": {},
   "source": [
    "Visually, arrays and lists are very similiar. But let me tell you the first difference:\n",
    "- Lists can contain elements of any data type;\n",
    "- NumPy arrays can only have an unique data type and therefore require much less memory than lists to be stored"
   ]
  },
  {
   "cell_type": "code",
   "execution_count": null,
   "metadata": {},
   "outputs": [],
   "source": [
    "# 1D Array\n",
    "temperature_list = [18.5, 20]                   # in degrees\n",
    "temperature_array = np.array(temperature_list)  # np.array(list, dtype)\n",
    "\n",
    "print(\"List:\", temperature_list, type(temperature_list[0]), type(temperature_list[1]))\n",
    "print(\"Array:\", temperature_array, type(temperature_array[0]), type(temperature_array[1]))"
   ]
  },
  {
   "cell_type": "markdown",
   "metadata": {},
   "source": [
    "### Speed Test"
   ]
  },
  {
   "cell_type": "markdown",
   "metadata": {},
   "source": [
    "NumPy arrays are much more efficient than Python lists. Let's compare NumPy with Python Lists peformance."
   ]
  },
  {
   "cell_type": "code",
   "execution_count": null,
   "metadata": {},
   "outputs": [],
   "source": [
    "# lists\n",
    "nb_elements = 1000\n",
    "x_list = [x for x in range(nb_elements)]      # range(start,end,interval)\n",
    "y_list = [(y*2) for y in range(nb_elements)]\n",
    "#print(x_list)\n",
    "#print(y_list)\n",
    "\n",
    "# numpy arrays\n",
    "x_array = np.array(x_list)\n",
    "y_array = np.array(y_list)"
   ]
  },
  {
   "cell_type": "code",
   "execution_count": null,
   "metadata": {},
   "outputs": [],
   "source": [
    "%%timeit   # magic command\n",
    "result = []\n",
    "for idx in range(len(x_list)):\n",
    "    result.append(x_list[idx] + y_list[idx])\n",
    "#print(result)"
   ]
  },
  {
   "cell_type": "code",
   "execution_count": null,
   "metadata": {},
   "outputs": [],
   "source": [
    "%%timeit   # magic command\n",
    "result = x_array + y_array\n",
    "#print(result)"
   ]
  },
  {
   "cell_type": "code",
   "execution_count": null,
   "metadata": {},
   "outputs": [],
   "source": [
    "list_time = 114e-6\n",
    "array_time = 1.32e-6\n",
    "print(round(list_time/array_time,1), \"slower\")"
   ]
  }
 ],
 "metadata": {
  "kernelspec": {
   "display_name": "Python 3",
   "language": "python",
   "name": "python3"
  },
  "language_info": {
   "codemirror_mode": {
    "name": "ipython",
    "version": 3
   },
   "file_extension": ".py",
   "mimetype": "text/x-python",
   "name": "python",
   "nbconvert_exporter": "python",
   "pygments_lexer": "ipython3",
   "version": "3.7.5"
  }
 },
 "nbformat": 4,
 "nbformat_minor": 4
}
