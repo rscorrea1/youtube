{
 "cells": [
  {
   "cell_type": "markdown",
   "metadata": {},
   "source": [
    "___\n",
    "\n",
    "<a href='https://www.youtube.com/FallinPython'> <img src=\"logo_name.jpg\" /></a>\n",
    "___\n",
    "\n",
    "# Jupyter Notebook\n",
    "\n",
    "- What is Jupyter Notebook\n",
    "- How to Install\n",
    "- How to start a Jupyter Notebook Server\n",
    "- Notebook Dashboard\n",
    "- Important Concepts\n",
    "- Cell Modes\n",
    "- Cell Types\n",
    "\n",
    "### How to install\n",
    "\n",
    "The official Jupyter website shows two options to install the classic Jupyter Notebook:\n",
    "\n",
    "1. Conda package manager ⇒ For those using Anaconda\n",
    "2. pip package manager \n",
    "\n",
    "### How to start a Jupyter Notebook Server\n",
    "\n",
    "Type the following in the terminal: `jupyter notebook`\n",
    "\n",
    "- It will print the information about the notebook server in the terminal\n",
    "- and by default the URL is [http://localhost:8888](http://localhost:8888/)\n",
    "\n",
    "### Notebook Dashboard\n",
    "\n",
    "When launching `jupyter notebook` the application opens and the first page that you encounter is the Notebook Dashboard.\n",
    "\n",
    "- The \"Files Tab\" shows the content of your current working directory\n",
    "- The \"Running tab\" shows all running notebooks\n",
    "\n",
    "### Important Concepts\n",
    "\n",
    "1. We are able to access the data stored in memory by other cells\n",
    "2. The order of the cell execution matters and the number in the left side of the cell tells us which cell was executed first.\n",
    "\n",
    "### Cell Modes\n",
    "\n",
    "A cell can have two modes and the margin color tells us which mode that cell is current in.\n",
    "\n",
    "- Command mode (Blue) ⇒ This is the notebook level. In this mode we can add, remove and reorder cells.\n",
    "- Edit Mode (Green) ⇒ This is where add instruction to the cell.\n",
    "\n",
    "### Cell Types\n",
    "\n",
    "A cell can either be a \"Code Cell\" or a \"Markdown Cell\".\n",
    "\n",
    "- Markdown Cell ⇒ Allows us to add text, figures and medias on it and do not have the execution number. \n",
    "- Code Cell ⇒ Allows us to type code\n",
    "\n",
    "⇒ Markdown is an easy way to write text to be converted to valid HTML to be displayed in the web."
   ]
  },
  {
   "cell_type": "code",
   "execution_count": 1,
   "metadata": {},
   "outputs": [
    {
     "name": "stdout",
     "output_type": "stream",
     "text": [
      "5\n"
     ]
    }
   ],
   "source": [
    "def add2Numbers(x,y):\n",
    "    return x+y\n",
    "\n",
    "result = add2Numbers(2,3)\n",
    "print(result) "
   ]
  },
  {
   "cell_type": "code",
   "execution_count": 2,
   "metadata": {},
   "outputs": [
    {
     "name": "stdout",
     "output_type": "stream",
     "text": [
      "9\n"
     ]
    }
   ],
   "source": [
    "result = add2Numbers(4,5)\n",
    "print(result)"
   ]
  }
 ],
 "metadata": {
  "kernelspec": {
   "display_name": "Python 3",
   "language": "python",
   "name": "python3"
  },
  "language_info": {
   "codemirror_mode": {
    "name": "ipython",
    "version": 3
   },
   "file_extension": ".py",
   "mimetype": "text/x-python",
   "name": "python",
   "nbconvert_exporter": "python",
   "pygments_lexer": "ipython3",
   "version": "3.7.5"
  }
 },
 "nbformat": 4,
 "nbformat_minor": 4
}
